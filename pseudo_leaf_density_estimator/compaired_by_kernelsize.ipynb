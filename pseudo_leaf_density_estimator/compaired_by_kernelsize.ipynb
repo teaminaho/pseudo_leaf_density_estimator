{
 "cells": [
  {
   "cell_type": "markdown",
   "id": "8927dab4-cffd-402a-bd3e-9e95d5a3d3ac",
   "metadata": {},
   "source": [
    "# 2021/12/12/compaired_by_kernelsize"
   ]
  },
  {
   "cell_type": "code",
   "execution_count": null,
   "id": "30501c8d-aceb-4708-a624-826f7edc4d3a",
   "metadata": {},
   "outputs": [],
   "source": [
    "import numpy as np\n",
    "import cv2 \n",
    "from matplotlib import pyplot as plt\n",
    "import csv\n",
    "from pathlib import Path\n",
    "from process_one import *"
   ]
  },
  {
   "cell_type": "code",
   "execution_count": null,
   "id": "62e283ab-374b-46e4-b0d4-6b036741238f",
   "metadata": {},
   "outputs": [],
   "source": [
    "kernel_size_list = [100,150,200,250,300,350,400,450]\n",
    "input_dir_path = Path(\"data/origin_data/anno_origin/hogehogehoge\")\n",
    "data_path_list = list(input_dir_path.glob(\"*.jpg\"))\n",
    "annotate_dir_path = Path(\"data/ikeuchi_anno_data\")"
   ]
  },
  {
   "cell_type": "code",
   "execution_count": null,
   "id": "c6342840-ec37-4402-b0e0-b5b61ca95776",
   "metadata": {},
   "outputs": [],
   "source": [
    "images_dic = {}\n",
    "with open(\"data/origin_data/anno_origin/new_roi.csv\") as csvfile:\n",
    "    roi = csv.reader(csvfile, delimiter=' ', quotechar='|')\n",
    "    roi = list(roi)\n",
    "    for row in roi[1:]:\n",
    "        image, hmin, hmax, anno_data_path = row[0].split(',')\n",
    "        images_dic[image] = int(hmin),int(hmax), anno_data_path"
   ]
  },
  {
   "cell_type": "code",
   "execution_count": null,
   "id": "7f8678ed-a931-4787-9c80-e770fbb3e2d9",
   "metadata": {},
   "outputs": [],
   "source": [
    "def create_mask(image_path, hmin, hmax):  \n",
    "    leaf_image_bgr = read_image(image_path)\n",
    "    leaf_image_rgb = cv2.cvtColor(leaf_image_bgr, cv2.COLOR_BGR2RGB)\n",
    "    leaf_image_bgr_crop = crop(leaf_image_bgr, hmin, hmax)\n",
    "    leaf_image_rgb_crop = crop(leaf_image_rgb, hmin, hmax)\n",
    "    \n",
    "    img_lch = rgb2lch(leaf_image_rgb_crop)\n",
    "    img_lsh = calculate_perception(img_lch)\n",
    "    lsh_mask = extract_blank_area(img_lsh) & np.bitwise_not(extract_green_area(leaf_image_bgr_crop))\n",
    "    return leaf_image_rgb, lsh_mask\n",
    "    \n",
    "def create_images_by_kernelsize(leaf_image_rgb, lsh_mask, kernel_size, hmin, hmax):\n",
    "    # Visualization (heatmap)\n",
    "    density_img = normalize(cv2.blur(255 - lsh_mask, (kernel_size, kernel_size)), v_min=DENSITY_MIN)\n",
    "    heatmap_img = cv2.applyColorMap(density_img, cv2.COLORMAP_JET)\n",
    "    overlay_heatmap = alpha_blend(leaf_image_rgb, heatmap_img, hmin, hmax)\n",
    "    overlay_heatmap = cv2.cvtColor(overlay_heatmap, cv2.COLOR_BGR2RGB)\n",
    "\n",
    "    # Visualization (contour)\n",
    "    contour_img = cv2.applyColorMap(discretize(density_img), cv2.COLORMAP_JET)\n",
    "    overlay_contour = alpha_blend(leaf_image_rgb, contour_img, hmin, hmax)\n",
    "    overlay_contour = cv2.cvtColor(overlay_contour,cv2.COLOR_BGR2RGB)\n",
    "    \n",
    "    return overlay_contour, overlay_heatmap\n",
    "\n",
    "def visualize_images(path):\n",
    "    hmin, hmax, anno_data_path = images_dic[path.name]\n",
    "    # call_annoimage\n",
    "    anno_image = cv2.imread(anno_data_path)\n",
    "    anno_image = cv2.cvtColor(anno_image, cv2.COLOR_BGR2RGB)\n",
    "    \n",
    "    leaf_image_rgb, lsh_mask = create_mask(str(path), hmin, hmax)\n",
    "    \n",
    "    # binalization_image\n",
    "    lsh_mask_bgr = gray2bgr(lsh_mask, leaf_image_rgb.shape, hmin, hmax)\n",
    "    \n",
    "    # crate_images_by_kernelsize\n",
    "    images_bykernel_list = []\n",
    "    for kernel_size in kernel_size_list:\n",
    "        overlay_contour, overlay_heatmap = create_images_by_kernelsize(leaf_image_rgb, lsh_mask, kernel_size, hmin, hmax)\n",
    "        images_bykernel_list.append((overlay_contour, overlay_heatmap))\n",
    "    # visualization\n",
    "    fig, axes = plt.subplots(2, len(kernel_size_list)+3,figsize=(50,20))\n",
    "    fig.suptitle(f\"image_name : {path.name}\", fontsize=20)\n",
    "    # 0,1,2番目にそれぞれ、元画像、\n",
    "    axes[0][0].imshow(leaf_image_rgb)\n",
    "    axes[1][0].imshow(leaf_image_rgb)\n",
    "    axes[0][1].imshow(lsh_mask_bgr)\n",
    "    axes[1][1].imshow(lsh_mask_bgr)\n",
    "    axes[0][0].imshow(leaf_image_rgb)\n",
    "    axes[1][0].imshow(leaf_image_rgb)\n",
    "    axes[1][0].imshow(leaf_image_rgb)\n",
    "    axes[1][0].imshow(leaf_image_rgb)\n",
    "    axes[1][0].imshow(leaf_image_rgb)\n",
    "    axes[1][2].imshow(anno_image)\n",
    "    for i in range(len(kernel_size_list)):\n",
    "        axes[0][i+3].set_title(f\"k_size = {kernel_size_list[i]}\",fontsize = 20)\n",
    "        axes[0][i+3].imshow(images_bykernel_list[i][0])\n",
    "        axes[1][i+3].imshow(images_bykernel_list[i][1])\n",
    "    plt.show()"
   ]
  },
  {
   "cell_type": "markdown",
   "id": "bdf020cd-d642-4b61-82e8-be7fc6775f54",
   "metadata": {},
   "source": [
    "## Visualize images"
   ]
  },
  {
   "cell_type": "code",
   "execution_count": null,
   "id": "d41c46dc-3acc-4647-ac54-e76b7652c805",
   "metadata": {},
   "outputs": [],
   "source": [
    "for path in data_path_list:\n",
    "    visualize_images(path)"
   ]
  },
  {
   "cell_type": "code",
   "execution_count": null,
   "id": "5b4b6663-d5ec-4c9a-82f2-6b347838ba97",
   "metadata": {},
   "outputs": [],
   "source": []
  }
 ],
 "metadata": {
  "kernelspec": {
   "display_name": "Python 3 (ipykernel)",
   "language": "python",
   "name": "python3"
  },
  "language_info": {
   "codemirror_mode": {
    "name": "ipython",
    "version": 3
   },
   "file_extension": ".py",
   "mimetype": "text/x-python",
   "name": "python",
   "nbconvert_exporter": "python",
   "pygments_lexer": "ipython3",
   "version": "3.7.7"
  },
  "toc-autonumbering": true,
  "toc-showcode": true,
  "toc-showmarkdowntxt": true
 },
 "nbformat": 4,
 "nbformat_minor": 5
}
